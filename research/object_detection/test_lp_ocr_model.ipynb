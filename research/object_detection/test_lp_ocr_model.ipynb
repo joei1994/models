{
 "cells": [
  {
   "cell_type": "code",
   "execution_count": 1,
   "metadata": {},
   "outputs": [],
   "source": [
    "import warnings\n",
    "warnings.filterwarnings('ignore')\n",
    "\n",
    "import numpy as np\n",
    "import os\n",
    "import glob\n",
    "from matplotlib import pyplot as plt\n",
    "from pdb import set_trace\n",
    "from PIL import Image, ImageDraw, ImageFont\n",
    "from collections import defaultdict\n",
    "import xml.etree.ElementTree as ET  \n",
    "import cv2\n",
    "import imgaug as ia\n",
    "import imgaug.augmenters as iaa\n",
    "from imgaug.augmentables.bbs import BoundingBox, BoundingBoxesOnImage\n",
    "\n",
    "from detector.Detector import Detector \n",
    "\n",
    "from pdb import set_trace"
   ]
  },
  {
   "cell_type": "code",
   "execution_count": 2,
   "metadata": {},
   "outputs": [],
   "source": [
    "LP_FROZEN_GRAPH_PATH = '/home/iapp/Desktop/projects/models/workspace/detect_lp/training/faster_rcnn_resnet50_gs/export/frozen_inference_graph.pb'\n",
    "LP_LABEL_MAP_PATH = '/home/iapp/Desktop/projects/models/workspace/detect_lp/training/faster_rcnn_resnet50_gs/label_map/label_map.pbtxt'\n",
    "OCR_FROZEN_GRAPH_PATH = '/home/iapp/Desktop/projects/models/workspace/lp_ocr/training/faster_rcnn_resnet50_gs_h150_v2/export/frozen_inference_graph.pb'\n",
    "OCR_LABEL_MAP_PATH = '/home/iapp/Desktop/projects/models/workspace/lp_ocr/training/faster_rcnn_resnet50_gs_h150_v2/label_map/label_map.pbtxt'\n",
    "\n",
    "TEST_IMAGES_DIR_PATH =  '/home/iapp/Desktop/projects/lp-ocr-preprocessing/dataturks/pascalVOC/gs-testset/'\n",
    "#TEST_RESULT_DIR =  '/home/iapp/Desktop/projects/models/workspace/detect_lp/data/trainset/gs/'\n",
    "TESTSET_RATIO = 1"
   ]
  },
  {
   "cell_type": "code",
   "execution_count": 3,
   "metadata": {},
   "outputs": [],
   "source": [
    "def sort_detections_left_to_right(single_image_detections):\n",
    "    return sorted(single_image_detections, key=lambda x: x['box'][0])"
   ]
  },
  {
   "cell_type": "code",
   "execution_count": 4,
   "metadata": {},
   "outputs": [],
   "source": [
    "def crop_plate(carImage, lpBbox, width=None, height=None):\n",
    "    xmin, ymin, xmax, ymax = lpBbox\n",
    "    plateImage = carImage[ymin:ymax, xmin:xmax]\n",
    "    \n",
    "    if width == None and height != None:\n",
    "        width = 'keep-aspect-ratio'\n",
    "    elif width != None and height == None:\n",
    "        heigth = 'keep-aspect-ratio'\n",
    "    seq = iaa.Sequential([iaa.Resize({\"width\": width, \"height\": height})])\n",
    "    return seq(image=plateImage)"
   ]
  },
  {
   "cell_type": "code",
   "execution_count": 5,
   "metadata": {},
   "outputs": [],
   "source": [
    "def get_actual_chars(image_path, data_dir_path):\n",
    "    def is_char(object_name):\n",
    "        return len(object_name) == 1 and ((ord(object_name) in range(ord('0'), ord('9')+1)) or (ord(object_name) in range(ord('ก'), ord('ฮ')+1)))\n",
    "        \n",
    "    image_name = os.path.basename(image_path).split('.')[0]\n",
    "    \n",
    "    xml_path = os.path.join(data_dir_path, f'{image_name}.xml')\n",
    "    tree = ET.parse(xml_path)\n",
    "    object_elem_list = tree.getroot().findall('object')\n",
    "    \n",
    "    single_image_ground_truths = []\n",
    "    for object_elem in object_elem_list:  \n",
    "        name = object_elem.find('name').text\n",
    "        if is_char(name):\n",
    "            ground_truth = {}\n",
    "            bndbox_elem = object_elem.find('bndbox')\n",
    "\n",
    "            xmin = int(float(bndbox_elem.find('xmin').text))\n",
    "            ymin = int(float(bndbox_elem.find('ymin').text))\n",
    "            xmax = int(float(bndbox_elem.find('xmax').text))\n",
    "            ymax = int(float(bndbox_elem.find('ymax').text))\n",
    "\n",
    "            ground_truth['box'] = (xmin, ymin, xmax, ymax)\n",
    "            ground_truth['label'] = name\n",
    "\n",
    "            single_image_ground_truths.append(ground_truth) \n",
    "    return single_image_ground_truths"
   ]
  },
  {
   "cell_type": "code",
   "execution_count": null,
   "metadata": {},
   "outputs": [],
   "source": [
    "TEST_IMAGE_PATHS =  [f for f in glob.glob(TEST_IMAGES_DIR_PATH + '*.jpg')]\n",
    "\n",
    "count = 0\n",
    "with Detector(LP_FROZEN_GRAPH_PATH, LP_LABEL_MAP_PATH) as lp_detector:\n",
    "    with Detector(OCR_FROZEN_GRAPH_PATH, OCR_LABEL_MAP_PATH) as ocr_detector:\n",
    "        for image_path in TEST_IMAGE_PATHS: \n",
    "            car_image = cv2.imread(image_path)\n",
    "            car_image = cv2.cvtColor(car_image, cv2.COLOR_BGR2RGB)\n",
    "            # Detect plate\n",
    "            plate_detections = lp_detector.detect(car_image, maxDetection=1)\n",
    "            if len(plate_detections) > 0:\n",
    "                plate_detection = plate_detections[0]\n",
    "                plate_image = crop_plate(car_image, plate_detection['box'], height=150)\n",
    "                \n",
    "                char_detections = sort_detections_left_to_right(ocr_detector.detect(plate_image, maxDetection=8, minScoreThreshold=.5))\n",
    "                predict_chars = [det['label'] for det in char_detections]\n",
    "                char_ground_truths = sort_detections_left_to_right(get_actual_chars(image_path, TEST_IMAGES_DIR_PATH))\n",
    "                actual_chars = [gt['label'] for gt in char_ground_truths]\n",
    "                count += (predict_chars == actual_chars)"
   ]
  },
  {
   "cell_type": "code",
   "execution_count": null,
   "metadata": {},
   "outputs": [],
   "source": [
    "count / len(TEST_IMAGE_PATHS)"
   ]
  },
  {
   "cell_type": "code",
   "execution_count": null,
   "metadata": {},
   "outputs": [],
   "source": [
    "char_ground_truths"
   ]
  },
  {
   "cell_type": "code",
   "execution_count": null,
   "metadata": {},
   "outputs": [],
   "source": [
    "char_detections"
   ]
  },
  {
   "cell_type": "code",
   "execution_count": null,
   "metadata": {},
   "outputs": [],
   "source": [
    "image_path"
   ]
  },
  {
   "cell_type": "code",
   "execution_count": null,
   "metadata": {},
   "outputs": [],
   "source": []
  }
 ],
 "metadata": {
  "kernelspec": {
   "display_name": "Python 3",
   "language": "python",
   "name": "python3"
  },
  "language_info": {
   "codemirror_mode": {
    "name": "ipython",
    "version": 3
   },
   "file_extension": ".py",
   "mimetype": "text/x-python",
   "name": "python",
   "nbconvert_exporter": "python",
   "pygments_lexer": "ipython3",
   "version": "3.6.9"
  }
 },
 "nbformat": 4,
 "nbformat_minor": 2
}
